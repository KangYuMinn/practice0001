{
 "cells": [
  {
   "cell_type": "code",
   "execution_count": null,
   "id": "4bba2649",
   "metadata": {},
   "outputs": [],
   "source": [
    "#chatgpt의 도움을 받음\n",
    "\n",
    "import itertools\n",
    "\n",
    "def is_prime(n):\n",
    "    if n <= 1:\n",
    "        return False\n",
    "    if n <= 3:\n",
    "        return True\n",
    "    if n % 2 == 0 or n % 3 == 0:\n",
    "        return False\n",
    "    i = 5\n",
    "    while i * i <= n:\n",
    "        if n % i == 0 or n % (i + 2) == 0:\n",
    "            return False\n",
    "        i += 6\n",
    "    return True\n",
    "\n",
    "def solution(nums):\n",
    "    count = 0\n",
    "    for k in range(3, min(51, len(nums) + 1)): \n",
    "        for comb in itertools.combinations(nums, k):\n",
    "            if is_prime(sum(comb)):\n",
    "                count += 1\n",
    "    return count\n",
    "\n",
    "nums = list(range(1, 1001))\n",
    "print(solution(nums))"
   ]
  },
  {
   "cell_type": "markdown",
   "id": "0a986635",
   "metadata": {},
   "source": [
    "### is_prime()\n",
    "is_prime()는 소수를 구별해주는 함수입니다. 1이면 소수가 아니라 false, 2 또는 3이면 소수이므로 true이다. 그 외에 2와 3으로 나누어지는 수들은 전부 소수가 아니므로 제외합니다. 그 후, 5부터 시작하여 홀수로 나누어지는지 확인합니다. 왜냐하면 2와 3으로 나눌 수 있는 경우는 이미 앞에서 처리했기 때문입니다. i * i <= n 조건은 i의 제곱이 n보다 작거나 같은 동안 반복합니다. 이는 n이 소수인지 확인하는 데 필요한 최대 한계입니다. 예를 들어서, n이 소수가 아닌 경우, n의 약수는 √n 이하에 반드시 존재합니다. n이 i 또는 i + 2로 나누어지는 경우, 소수가 아닙니다. i와 i + 2를 검사하는 이유는, 소수는 6k ± 1 형태로 나타낼 수 있기 때문입니다. \n",
    "### solution()\n",
    "소수의 개수를 세어주는 solution()를 만들어줍니다. itertools.combinations(nums, k) 함수는 nums 배열에서 길이가 k인 모든 가능한 조합을 생성합니다. 따라서 k를 3부터 50까지 변경하여 이를 반복적으로 실행하면 됩니다. \n",
    "### nums \n",
    " nums 리스트를 1부터 1000까지의 자연수가 포함되도록 만들어줍니다."
   ]
  }
 ],
 "metadata": {
  "kernelspec": {
   "display_name": "Python 3 (ipykernel)",
   "language": "python",
   "name": "python3"
  },
  "language_info": {
   "codemirror_mode": {
    "name": "ipython",
    "version": 3
   },
   "file_extension": ".py",
   "mimetype": "text/x-python",
   "name": "python",
   "nbconvert_exporter": "python",
   "pygments_lexer": "ipython3",
   "version": "3.9.12"
  }
 },
 "nbformat": 4,
 "nbformat_minor": 5
}
